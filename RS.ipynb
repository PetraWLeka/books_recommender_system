{
 "cells": [
  {
   "cell_type": "markdown",
   "metadata": {},
   "source": [
    "- Dataset\n",
    "http://www2.informatik.uni-freiburg.de/~cziegler/BX/\n",
    "- alt:\n",
    "https://github.com/PetraWLeka/books_recommender_system/blob/master/BX-Books.csv"
   ]
  },
  {
   "cell_type": "code",
   "execution_count": 14,
   "metadata": {},
   "outputs": [
    {
     "name": "stderr",
     "output_type": "stream",
     "text": [
      "C:\\Users\\PETRA LEKA\\AppData\\Local\\Temp\\ipykernel_29804\\1295167678.py:3: DtypeWarning: Columns (3) have mixed types. Specify dtype option on import or set low_memory=False.\n",
      "  df = pd.read_csv('BX-Books.csv',encoding=\"latin1\")\n"
     ]
    },
    {
     "data": {
      "text/html": [
       "<div>\n",
       "<style scoped>\n",
       "    .dataframe tbody tr th:only-of-type {\n",
       "        vertical-align: middle;\n",
       "    }\n",
       "\n",
       "    .dataframe tbody tr th {\n",
       "        vertical-align: top;\n",
       "    }\n",
       "\n",
       "    .dataframe thead th {\n",
       "        text-align: right;\n",
       "    }\n",
       "</style>\n",
       "<table border=\"1\" class=\"dataframe\">\n",
       "  <thead>\n",
       "    <tr style=\"text-align: right;\">\n",
       "      <th></th>\n",
       "      <th>isbn</th>\n",
       "      <th>book_title</th>\n",
       "      <th>book_author</th>\n",
       "      <th>year_of_publication</th>\n",
       "      <th>publisher</th>\n",
       "    </tr>\n",
       "  </thead>\n",
       "  <tbody>\n",
       "    <tr>\n",
       "      <th>0</th>\n",
       "      <td>195153448</td>\n",
       "      <td>Classical Mythology</td>\n",
       "      <td>Mark P. O. Morford</td>\n",
       "      <td>2002</td>\n",
       "      <td>Oxford University Press</td>\n",
       "    </tr>\n",
       "    <tr>\n",
       "      <th>1</th>\n",
       "      <td>2005018</td>\n",
       "      <td>Clara Callan</td>\n",
       "      <td>Richard Bruce Wright</td>\n",
       "      <td>2001</td>\n",
       "      <td>HarperFlamingo Canada</td>\n",
       "    </tr>\n",
       "    <tr>\n",
       "      <th>2</th>\n",
       "      <td>60973129</td>\n",
       "      <td>Decision in Normandy</td>\n",
       "      <td>Carlo D'Este</td>\n",
       "      <td>1991</td>\n",
       "      <td>HarperPerennial</td>\n",
       "    </tr>\n",
       "    <tr>\n",
       "      <th>3</th>\n",
       "      <td>374157065</td>\n",
       "      <td>Flu: The Story of the Great Influenza Pandemic...</td>\n",
       "      <td>Gina Bari Kolata</td>\n",
       "      <td>1999</td>\n",
       "      <td>Farrar Straus Giroux</td>\n",
       "    </tr>\n",
       "    <tr>\n",
       "      <th>4</th>\n",
       "      <td>393045218</td>\n",
       "      <td>The Mummies of Urumchi</td>\n",
       "      <td>E. J. W. Barber</td>\n",
       "      <td>1999</td>\n",
       "      <td>W. W. Norton &amp;amp; Company</td>\n",
       "    </tr>\n",
       "  </tbody>\n",
       "</table>\n",
       "</div>"
      ],
      "text/plain": [
       "        isbn                                         book_title  \\\n",
       "0  195153448                                Classical Mythology   \n",
       "1    2005018                                       Clara Callan   \n",
       "2   60973129                               Decision in Normandy   \n",
       "3  374157065  Flu: The Story of the Great Influenza Pandemic...   \n",
       "4  393045218                             The Mummies of Urumchi   \n",
       "\n",
       "            book_author year_of_publication                   publisher  \n",
       "0    Mark P. O. Morford                2002     Oxford University Press  \n",
       "1  Richard Bruce Wright                2001       HarperFlamingo Canada  \n",
       "2          Carlo D'Este                1991             HarperPerennial  \n",
       "3      Gina Bari Kolata                1999        Farrar Straus Giroux  \n",
       "4       E. J. W. Barber                1999  W. W. Norton &amp; Company  "
      ]
     },
     "execution_count": 14,
     "metadata": {},
     "output_type": "execute_result"
    }
   ],
   "source": [
    "import pandas as pd\n",
    "\n",
    "df = pd.read_csv('BX-Books.csv',encoding=\"latin1\")\n",
    "df.head()"
   ]
  },
  {
   "cell_type": "code",
   "execution_count": 15,
   "metadata": {},
   "outputs": [
    {
     "name": "stdout",
     "output_type": "stream",
     "text": [
      "<class 'pandas.core.frame.DataFrame'>\n",
      "RangeIndex: 271379 entries, 0 to 271378\n",
      "Data columns (total 5 columns):\n",
      " #   Column               Non-Null Count   Dtype \n",
      "---  ------               --------------   ----- \n",
      " 0   isbn                 271379 non-null  object\n",
      " 1   book_title           271379 non-null  object\n",
      " 2   book_author          271377 non-null  object\n",
      " 3   year_of_publication  271379 non-null  object\n",
      " 4   publisher            271377 non-null  object\n",
      "dtypes: object(5)\n",
      "memory usage: 10.4+ MB\n"
     ]
    }
   ],
   "source": [
    "df.info()"
   ]
  },
  {
   "cell_type": "code",
   "execution_count": 16,
   "metadata": {},
   "outputs": [
    {
     "data": {
      "text/plain": [
       "29229"
      ]
     },
     "execution_count": 16,
     "metadata": {},
     "output_type": "execute_result"
    }
   ],
   "source": [
    "#remove duplicate\n",
    "df.duplicated(subset='book_title').sum()"
   ]
  },
  {
   "cell_type": "code",
   "execution_count": 17,
   "metadata": {},
   "outputs": [],
   "source": [
    "df = df.drop_duplicates(subset='book_title')"
   ]
  },
  {
   "cell_type": "code",
   "execution_count": 18,
   "metadata": {},
   "outputs": [
    {
     "data": {
      "text/plain": [
       "0"
      ]
     },
     "execution_count": 18,
     "metadata": {},
     "output_type": "execute_result"
    }
   ],
   "source": [
    "\n",
    "df.duplicated(subset='book_title').sum()"
   ]
  },
  {
   "cell_type": "code",
   "execution_count": 19,
   "metadata": {},
   "outputs": [],
   "source": [
    "#Use only 15,000 rows instead of all 271,000 rows. It won't consume excessive memory.\n",
    "sample_size = 15000\n",
    "df = df.sample(n=sample_size, replace=False, random_state=42)\n",
    "\n",
    "df = df.reset_index()\n",
    "df = df.drop('index',axis=1)"
   ]
  },
  {
   "cell_type": "code",
   "execution_count": 20,
   "metadata": {},
   "outputs": [
    {
     "data": {
      "text/html": [
       "<div>\n",
       "<style scoped>\n",
       "    .dataframe tbody tr th:only-of-type {\n",
       "        vertical-align: middle;\n",
       "    }\n",
       "\n",
       "    .dataframe tbody tr th {\n",
       "        vertical-align: top;\n",
       "    }\n",
       "\n",
       "    .dataframe thead th {\n",
       "        text-align: right;\n",
       "    }\n",
       "</style>\n",
       "<table border=\"1\" class=\"dataframe\">\n",
       "  <thead>\n",
       "    <tr style=\"text-align: right;\">\n",
       "      <th></th>\n",
       "      <th>isbn</th>\n",
       "      <th>book_title</th>\n",
       "      <th>book_author</th>\n",
       "      <th>year_of_publication</th>\n",
       "      <th>publisher</th>\n",
       "    </tr>\n",
       "  </thead>\n",
       "  <tbody>\n",
       "    <tr>\n",
       "      <th>0</th>\n",
       "      <td>936399422</td>\n",
       "      <td>Norman Rockwell's Four Freedoms: Images That I...</td>\n",
       "      <td>Stuart Murray</td>\n",
       "      <td>1993</td>\n",
       "      <td>Berkshire House Publishers</td>\n",
       "    </tr>\n",
       "    <tr>\n",
       "      <th>1</th>\n",
       "      <td>055327726X</td>\n",
       "      <td>The Official Computer Freaks Joke Book</td>\n",
       "      <td>Larry Wilde</td>\n",
       "      <td>1988</td>\n",
       "      <td>Bantam Books</td>\n",
       "    </tr>\n",
       "    <tr>\n",
       "      <th>2</th>\n",
       "      <td>8445071629</td>\n",
       "      <td>Costa Mas Lejana, La</td>\n",
       "      <td>Ursula K. Le Guin</td>\n",
       "      <td>1995</td>\n",
       "      <td>Minotauro</td>\n",
       "    </tr>\n",
       "    <tr>\n",
       "      <th>3</th>\n",
       "      <td>802448208</td>\n",
       "      <td>The Bull Fighter (Sugar Creek Gang)</td>\n",
       "      <td>Paul Hutchins</td>\n",
       "      <td>1970</td>\n",
       "      <td>Moody Pr</td>\n",
       "    </tr>\n",
       "    <tr>\n",
       "      <th>4</th>\n",
       "      <td>451122720</td>\n",
       "      <td>Wild Harvest</td>\n",
       "      <td>Allison Mitchell</td>\n",
       "      <td>1983</td>\n",
       "      <td>New American Library</td>\n",
       "    </tr>\n",
       "  </tbody>\n",
       "</table>\n",
       "</div>"
      ],
      "text/plain": [
       "         isbn                                         book_title  \\\n",
       "0   936399422  Norman Rockwell's Four Freedoms: Images That I...   \n",
       "1  055327726X             The Official Computer Freaks Joke Book   \n",
       "2  8445071629                               Costa Mas Lejana, La   \n",
       "3   802448208                The Bull Fighter (Sugar Creek Gang)   \n",
       "4   451122720                                       Wild Harvest   \n",
       "\n",
       "         book_author year_of_publication                   publisher  \n",
       "0      Stuart Murray                1993  Berkshire House Publishers  \n",
       "1        Larry Wilde                1988                Bantam Books  \n",
       "2  Ursula K. Le Guin                1995                   Minotauro  \n",
       "3      Paul Hutchins                1970                    Moody Pr  \n",
       "4   Allison Mitchell                1983        New American Library  "
      ]
     },
     "execution_count": 20,
     "metadata": {},
     "output_type": "execute_result"
    }
   ],
   "source": [
    "df.head()"
   ]
  },
  {
   "cell_type": "code",
   "execution_count": 22,
   "metadata": {},
   "outputs": [],
   "source": [
    "#convert text into its numeric representation before we can apply predictive modeling techniques onto it\n",
    "#preprocess data\n",
    "#combine name into one word\n",
    "def clean_text(author):\n",
    "    result = str(author).lower()\n",
    "    return(result.replace(' ',''))\n",
    "df['book_author'] = df['book_author'].apply(clean_text)"
   ]
  },
  {
   "cell_type": "code",
   "execution_count": 24,
   "metadata": {},
   "outputs": [],
   "source": [
    "df['book_title'] = df['book_title'].str.lower()\n",
    "df['publisher'] = df['publisher'].str.lower()"
   ]
  },
  {
   "cell_type": "code",
   "execution_count": 25,
   "metadata": {},
   "outputs": [
    {
     "name": "stdout",
     "output_type": "stream",
     "text": [
      "0    norman rockwell's four freedoms: images that i...\n",
      "1    the official computer freaks joke book larrywi...\n",
      "2    costa mas lejana, la ursulak.leguin 1995 minot...\n",
      "3    the bull fighter (sugar creek gang) paulhutchi...\n",
      "4    wild harvest allisonmitchell 1983 new american...\n",
      "Name: data, dtype: object\n"
     ]
    }
   ],
   "source": [
    "#combine these three columns to create a single variable\n",
    "df2 = df.copy()\n",
    "df2['data'] = df2[df2.columns[1:]].apply(\n",
    "    lambda x: ' '.join(x.dropna().astype(str)),\n",
    "    axis=1\n",
    ")\n",
    "\n",
    "print(df2['data'].head())"
   ]
  },
  {
   "cell_type": "code",
   "execution_count": 26,
   "metadata": {},
   "outputs": [
    {
     "name": "stdout",
     "output_type": "stream",
     "text": [
      "<class 'pandas.core.frame.DataFrame'>\n",
      "RangeIndex: 15000 entries, 0 to 14999\n",
      "Data columns (total 6 columns):\n",
      " #   Column               Non-Null Count  Dtype \n",
      "---  ------               --------------  ----- \n",
      " 0   isbn                 15000 non-null  object\n",
      " 1   book_title           15000 non-null  object\n",
      " 2   book_author          15000 non-null  object\n",
      " 3   year_of_publication  15000 non-null  object\n",
      " 4   publisher            15000 non-null  object\n",
      " 5   data                 15000 non-null  object\n",
      "dtypes: object(6)\n",
      "memory usage: 703.2+ KB\n"
     ]
    }
   ],
   "source": [
    "df2.info()"
   ]
  },
  {
   "cell_type": "code",
   "execution_count": 27,
   "metadata": {},
   "outputs": [],
   "source": [
    "# apply Scikit-Learn’s CountVectorizer() on the combined text data\n",
    "from sklearn.feature_extraction.text import CountVectorizer\n",
    "\n",
    "vectorizer = CountVectorizer()\n",
    "vectorized = vectorizer.fit_transform(df2['data'])"
   ]
  },
  {
   "cell_type": "code",
   "execution_count": 28,
   "metadata": {},
   "outputs": [],
   "source": [
    "from sklearn.metrics.pairwise import cosine_similarity\n",
    "\n",
    "similarities = cosine_similarity(vectorized)"
   ]
  },
  {
   "cell_type": "code",
   "execution_count": 29,
   "metadata": {},
   "outputs": [
    {
     "name": "stdout",
     "output_type": "stream",
     "text": [
      "[[1.         0.         0.         ... 0.         0.09805807 0.        ]\n",
      " [0.         1.         0.         ... 0.09534626 0.1118034  0.        ]\n",
      " [0.         0.         1.         ... 0.         0.         0.        ]\n",
      " ...\n",
      " [0.         0.09534626 0.         ... 1.         0.10660036 0.        ]\n",
      " [0.09805807 0.1118034  0.         ... 0.10660036 1.         0.13363062]\n",
      " [0.         0.         0.         ... 0.         0.13363062 1.        ]]\n"
     ]
    }
   ],
   "source": [
    "print(similarities)"
   ]
  },
  {
   "cell_type": "code",
   "execution_count": 30,
   "metadata": {},
   "outputs": [
    {
     "data": {
      "text/html": [
       "<div>\n",
       "<style scoped>\n",
       "    .dataframe tbody tr th:only-of-type {\n",
       "        vertical-align: middle;\n",
       "    }\n",
       "\n",
       "    .dataframe tbody tr th {\n",
       "        vertical-align: top;\n",
       "    }\n",
       "\n",
       "    .dataframe thead th {\n",
       "        text-align: right;\n",
       "    }\n",
       "</style>\n",
       "<table border=\"1\" class=\"dataframe\">\n",
       "  <thead>\n",
       "    <tr style=\"text-align: right;\">\n",
       "      <th>book_title</th>\n",
       "      <th>book_title</th>\n",
       "      <th>norman rockwell's four freedoms: images that inspire a nation</th>\n",
       "      <th>the official computer freaks joke book</th>\n",
       "      <th>costa mas lejana, la</th>\n",
       "      <th>the bull fighter (sugar creek gang)</th>\n",
       "      <th>wild harvest</th>\n",
       "      <th>dorothy's world: childhood in sabine bottom, 1902-1910</th>\n",
       "      <th>just between us girls: secrets about men from the mayflower madam</th>\n",
       "      <th>take up thy bed and walk: death, disability and cure in classic fiction for girls</th>\n",
       "      <th>lanark a life in books</th>\n",
       "      <th>...</th>\n",
       "      <th>here at the new yorker</th>\n",
       "      <th>start with the soil: the organic gardener's guide to improving soil for higher yields, more beautiful flowers, and a healthy, easy-care garden</th>\n",
       "      <th>so long as you both shall live</th>\n",
       "      <th>should we burn babar?: essays on children's literature and the power of stories</th>\n",
       "      <th>ann of the wild rose inn (wild rose inn, no 2)</th>\n",
       "      <th>princess school: who's the fairest</th>\n",
       "      <th>les cles du royaume</th>\n",
       "      <th>twinship: a novel by the author of ex utero</th>\n",
       "      <th>yiddish : a nation of words</th>\n",
       "      <th>weihnachten. groã?â?druck.</th>\n",
       "    </tr>\n",
       "  </thead>\n",
       "  <tbody>\n",
       "    <tr>\n",
       "      <th>0</th>\n",
       "      <td>norman rockwell's four freedoms: images that i...</td>\n",
       "      <td>1.0</td>\n",
       "      <td>0.0</td>\n",
       "      <td>0.0</td>\n",
       "      <td>0.0</td>\n",
       "      <td>0.0</td>\n",
       "      <td>0.00000</td>\n",
       "      <td>0.000000</td>\n",
       "      <td>0.00000</td>\n",
       "      <td>0.0</td>\n",
       "      <td>...</td>\n",
       "      <td>0.000000</td>\n",
       "      <td>0.049814</td>\n",
       "      <td>0.000000</td>\n",
       "      <td>0.000000</td>\n",
       "      <td>0.000000</td>\n",
       "      <td>0.0</td>\n",
       "      <td>0.0</td>\n",
       "      <td>0.000000</td>\n",
       "      <td>0.098058</td>\n",
       "      <td>0.0</td>\n",
       "    </tr>\n",
       "    <tr>\n",
       "      <th>1</th>\n",
       "      <td>the official computer freaks joke book</td>\n",
       "      <td>0.0</td>\n",
       "      <td>1.0</td>\n",
       "      <td>0.0</td>\n",
       "      <td>0.1</td>\n",
       "      <td>0.0</td>\n",
       "      <td>0.08165</td>\n",
       "      <td>0.079057</td>\n",
       "      <td>0.06742</td>\n",
       "      <td>0.2</td>\n",
       "      <td>...</td>\n",
       "      <td>0.105409</td>\n",
       "      <td>0.113592</td>\n",
       "      <td>0.087706</td>\n",
       "      <td>0.074536</td>\n",
       "      <td>0.145095</td>\n",
       "      <td>0.1</td>\n",
       "      <td>0.0</td>\n",
       "      <td>0.095346</td>\n",
       "      <td>0.111803</td>\n",
       "      <td>0.0</td>\n",
       "    </tr>\n",
       "    <tr>\n",
       "      <th>2</th>\n",
       "      <td>costa mas lejana, la</td>\n",
       "      <td>0.0</td>\n",
       "      <td>0.0</td>\n",
       "      <td>1.0</td>\n",
       "      <td>0.0</td>\n",
       "      <td>0.0</td>\n",
       "      <td>0.00000</td>\n",
       "      <td>0.000000</td>\n",
       "      <td>0.00000</td>\n",
       "      <td>0.0</td>\n",
       "      <td>...</td>\n",
       "      <td>0.000000</td>\n",
       "      <td>0.000000</td>\n",
       "      <td>0.000000</td>\n",
       "      <td>0.083333</td>\n",
       "      <td>0.000000</td>\n",
       "      <td>0.0</td>\n",
       "      <td>0.0</td>\n",
       "      <td>0.000000</td>\n",
       "      <td>0.000000</td>\n",
       "      <td>0.0</td>\n",
       "    </tr>\n",
       "    <tr>\n",
       "      <th>3</th>\n",
       "      <td>the bull fighter (sugar creek gang)</td>\n",
       "      <td>0.0</td>\n",
       "      <td>0.1</td>\n",
       "      <td>0.0</td>\n",
       "      <td>1.0</td>\n",
       "      <td>0.0</td>\n",
       "      <td>0.00000</td>\n",
       "      <td>0.079057</td>\n",
       "      <td>0.06742</td>\n",
       "      <td>0.0</td>\n",
       "      <td>...</td>\n",
       "      <td>0.105409</td>\n",
       "      <td>0.170389</td>\n",
       "      <td>0.000000</td>\n",
       "      <td>0.074536</td>\n",
       "      <td>0.072548</td>\n",
       "      <td>0.1</td>\n",
       "      <td>0.0</td>\n",
       "      <td>0.095346</td>\n",
       "      <td>0.000000</td>\n",
       "      <td>0.0</td>\n",
       "    </tr>\n",
       "    <tr>\n",
       "      <th>4</th>\n",
       "      <td>wild harvest</td>\n",
       "      <td>0.0</td>\n",
       "      <td>0.0</td>\n",
       "      <td>0.0</td>\n",
       "      <td>0.0</td>\n",
       "      <td>1.0</td>\n",
       "      <td>0.00000</td>\n",
       "      <td>0.000000</td>\n",
       "      <td>0.00000</td>\n",
       "      <td>0.0</td>\n",
       "      <td>...</td>\n",
       "      <td>0.125988</td>\n",
       "      <td>0.000000</td>\n",
       "      <td>0.209657</td>\n",
       "      <td>0.089087</td>\n",
       "      <td>0.173422</td>\n",
       "      <td>0.0</td>\n",
       "      <td>0.0</td>\n",
       "      <td>0.000000</td>\n",
       "      <td>0.000000</td>\n",
       "      <td>0.0</td>\n",
       "    </tr>\n",
       "  </tbody>\n",
       "</table>\n",
       "<p>5 rows × 15001 columns</p>\n",
       "</div>"
      ],
      "text/plain": [
       "book_title                                         book_title  \\\n",
       "0           norman rockwell's four freedoms: images that i...   \n",
       "1                      the official computer freaks joke book   \n",
       "2                                        costa mas lejana, la   \n",
       "3                         the bull fighter (sugar creek gang)   \n",
       "4                                                wild harvest   \n",
       "\n",
       "book_title  norman rockwell's four freedoms: images that inspire a nation  \\\n",
       "0                                                         1.0               \n",
       "1                                                         0.0               \n",
       "2                                                         0.0               \n",
       "3                                                         0.0               \n",
       "4                                                         0.0               \n",
       "\n",
       "book_title  the official computer freaks joke book  costa mas lejana, la  \\\n",
       "0                                              0.0                   0.0   \n",
       "1                                              1.0                   0.0   \n",
       "2                                              0.0                   1.0   \n",
       "3                                              0.1                   0.0   \n",
       "4                                              0.0                   0.0   \n",
       "\n",
       "book_title  the bull fighter (sugar creek gang)  wild harvest  \\\n",
       "0                                           0.0           0.0   \n",
       "1                                           0.1           0.0   \n",
       "2                                           0.0           0.0   \n",
       "3                                           1.0           0.0   \n",
       "4                                           0.0           1.0   \n",
       "\n",
       "book_title  dorothy's world: childhood in sabine bottom, 1902-1910  \\\n",
       "0                                                     0.00000        \n",
       "1                                                     0.08165        \n",
       "2                                                     0.00000        \n",
       "3                                                     0.00000        \n",
       "4                                                     0.00000        \n",
       "\n",
       "book_title  just between us girls: secrets about men from the mayflower madam  \\\n",
       "0                                                    0.000000                   \n",
       "1                                                    0.079057                   \n",
       "2                                                    0.000000                   \n",
       "3                                                    0.079057                   \n",
       "4                                                    0.000000                   \n",
       "\n",
       "book_title  take up thy bed and walk: death, disability and cure in classic fiction for girls  \\\n",
       "0                                                     0.00000                                   \n",
       "1                                                     0.06742                                   \n",
       "2                                                     0.00000                                   \n",
       "3                                                     0.06742                                   \n",
       "4                                                     0.00000                                   \n",
       "\n",
       "book_title  lanark a life in books  ...  here at the new yorker  \\\n",
       "0                              0.0  ...                0.000000   \n",
       "1                              0.2  ...                0.105409   \n",
       "2                              0.0  ...                0.000000   \n",
       "3                              0.0  ...                0.105409   \n",
       "4                              0.0  ...                0.125988   \n",
       "\n",
       "book_title  start with the soil: the organic gardener's guide to improving soil for higher yields, more beautiful flowers, and a healthy, easy-care garden  \\\n",
       "0                                                    0.049814                                                                                                \n",
       "1                                                    0.113592                                                                                                \n",
       "2                                                    0.000000                                                                                                \n",
       "3                                                    0.170389                                                                                                \n",
       "4                                                    0.000000                                                                                                \n",
       "\n",
       "book_title  so long as you both shall live  \\\n",
       "0                                 0.000000   \n",
       "1                                 0.087706   \n",
       "2                                 0.000000   \n",
       "3                                 0.000000   \n",
       "4                                 0.209657   \n",
       "\n",
       "book_title  should we burn babar?: essays on children's literature and the power of stories  \\\n",
       "0                                                    0.000000                                 \n",
       "1                                                    0.074536                                 \n",
       "2                                                    0.083333                                 \n",
       "3                                                    0.074536                                 \n",
       "4                                                    0.089087                                 \n",
       "\n",
       "book_title  ann of the wild rose inn (wild rose inn, no 2)  \\\n",
       "0                                                 0.000000   \n",
       "1                                                 0.145095   \n",
       "2                                                 0.000000   \n",
       "3                                                 0.072548   \n",
       "4                                                 0.173422   \n",
       "\n",
       "book_title  princess school: who's the fairest  les cles du royaume  \\\n",
       "0                                          0.0                  0.0   \n",
       "1                                          0.1                  0.0   \n",
       "2                                          0.0                  0.0   \n",
       "3                                          0.1                  0.0   \n",
       "4                                          0.0                  0.0   \n",
       "\n",
       "book_title  twinship: a novel by the author of ex utero  \\\n",
       "0                                              0.000000   \n",
       "1                                              0.095346   \n",
       "2                                              0.000000   \n",
       "3                                              0.095346   \n",
       "4                                              0.000000   \n",
       "\n",
       "book_title  yiddish : a nation of words  weihnachten. groã?â?druck.  \n",
       "0                              0.098058                         0.0  \n",
       "1                              0.111803                         0.0  \n",
       "2                              0.000000                         0.0  \n",
       "3                              0.000000                         0.0  \n",
       "4                              0.000000                         0.0  \n",
       "\n",
       "[5 rows x 15001 columns]"
      ]
     },
     "execution_count": 30,
     "metadata": {},
     "output_type": "execute_result"
    }
   ],
   "source": [
    "df = pd.DataFrame(similarities, columns=df['book_title'], index=df['book_title']).reset_index()\n",
    "\n",
    "df.head()"
   ]
  },
  {
   "cell_type": "code",
   "execution_count": 34,
   "metadata": {},
   "outputs": [
    {
     "data": {
      "text/plain": [
       "0        norman rockwell's four freedoms: images that i...\n",
       "1                   the official computer freaks joke book\n",
       "2                                     costa mas lejana, la\n",
       "3                      the bull fighter (sugar creek gang)\n",
       "4                                             wild harvest\n",
       "                               ...                        \n",
       "14995                   princess school: who's the fairest\n",
       "14996                                  les cles du royaume\n",
       "14997          twinship: a novel by the author of ex utero\n",
       "14998                          yiddish : a nation of words\n",
       "14999                           weihnachten. groã?â?druck.\n",
       "Name: book_title, Length: 15000, dtype: object"
      ]
     },
     "execution_count": 34,
     "metadata": {},
     "output_type": "execute_result"
    }
   ],
   "source": [
    "df['book_title']"
   ]
  },
  {
   "cell_type": "code",
   "execution_count": 35,
   "metadata": {},
   "outputs": [
    {
     "name": "stdout",
     "output_type": "stream",
     "text": [
      "                                              book_title\n",
      "13149  the shortstop who knew too much (tales from th...\n",
      "5815               a room in the attic (princess , no 2)\n",
      "12254                          the tortoise and the hare\n",
      "12394                             the girl in the window\n",
      "3108                                             the fog\n",
      "3352                                     the candy witch\n",
      "7235                                        the castaway\n",
      "12077                                the mummy scrapbook\n",
      "13643                                    the ghostmobile\n",
      "5188                     the girl on the outside (point)\n"
     ]
    }
   ],
   "source": [
    "input_book = \"princess school: who's the fairest\"\n",
    "recommendations = pd.DataFrame(df.nlargest(11,input_book)['book_title'])\n",
    "recommendations = recommendations[recommendations['book_title']!=input_book]\n",
    "print(recommendations)"
   ]
  }
 ],
 "metadata": {
  "kernelspec": {
   "display_name": "Python 3.10.13 ('PythonIlmuData1')",
   "language": "python",
   "name": "python3"
  },
  "language_info": {
   "codemirror_mode": {
    "name": "ipython",
    "version": 3
   },
   "file_extension": ".py",
   "mimetype": "text/x-python",
   "name": "python",
   "nbconvert_exporter": "python",
   "pygments_lexer": "ipython3",
   "version": "3.10.13"
  },
  "orig_nbformat": 4,
  "vscode": {
   "interpreter": {
    "hash": "9111e1d3aae2699dc46d408508c057f8ebadbec093f8a01e0df102a5d66306e9"
   }
  }
 },
 "nbformat": 4,
 "nbformat_minor": 2
}
